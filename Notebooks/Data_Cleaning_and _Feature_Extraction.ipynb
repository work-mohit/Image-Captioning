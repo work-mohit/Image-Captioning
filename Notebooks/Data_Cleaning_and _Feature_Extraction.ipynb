{
 "cells": [
  {
   "cell_type": "code",
   "execution_count": 1,
   "metadata": {},
   "outputs": [
    {
     "name": "stderr",
     "output_type": "stream",
     "text": [
      "Using TensorFlow backend.\n"
     ]
    }
   ],
   "source": [
    "import tensorflow as tf\n",
    "import keras\n",
    "from keras.applications.vgg16 import VGG16\n",
    "# from keras import backend as K\n",
    "from keras.models import Model\n",
    "from os import listdir\n",
    "from keras.applications.vgg16 import preprocess_input\n",
    "from keras.preprocessing.image import load_img\n",
    "from keras.preprocessing.image import img_to_array\n",
    "from pickle import dump\n",
    "import pandas as pd\n",
    "import numpy as np \n",
    "from pickle import load\n",
    "# from tensorflow.keras.utils import plot_model\n",
    "from PIL import Image\n",
    "from tqdm import tqdm \n",
    "# import matplotlib.pyplot as plt\n"
   ]
  },
  {
   "cell_type": "code",
   "execution_count": 2,
   "metadata": {},
   "outputs": [
    {
     "data": {
      "text/plain": [
       "'tensorflow'"
      ]
     },
     "execution_count": 2,
     "metadata": {},
     "output_type": "execute_result"
    }
   ],
   "source": [
    "gpu = tf.config.experimental.list_physical_devices('GPU')\n",
    "tf.config.list_physical_devices('GPU')\n",
    "tf.keras.backend.backend()"
   ]
  },
  {
   "cell_type": "code",
   "execution_count": 3,
   "metadata": {},
   "outputs": [],
   "source": [
    "config = tf.compat.v1.ConfigProto()\n",
    "config.gpu_options.allow_growth = True\n",
    "sess = tf.compat.v1.Session(config=config)\n",
    "\n",
    "# config = tf.compat.v1.ConfigProto(allow_soft_placement=True)\n",
    "# config.gpu_options.allocator_type = 'BFC'\n",
    "# config.gpu_options.per_process_gpu_memory_fraction = 0.0"
   ]
  },
  {
   "cell_type": "code",
   "execution_count": 4,
   "metadata": {},
   "outputs": [
    {
     "name": "stderr",
     "output_type": "stream",
     "text": [
      "100%|██████████████████████████████████████████████████████████████████████████████| 8091/8091 [08:21<00:00, 16.12it/s]\n"
     ]
    }
   ],
   "source": [
    "def extract_features(directory):\n",
    "    # load the model\n",
    "    model = VGG16()\n",
    "    model.layers.pop()\n",
    "    model = Model(inputs=model.inputs, outputs=model.layers[-1].output)\n",
    "#     plot_model(model,to_file='model.png',show_shapes=True,show_layer_names=True)\n",
    "#     print(model.summary())\n",
    "    \n",
    "    features = dict()\n",
    "    for file in tqdm(listdir(directory)):\n",
    "        img_path = directory + \"/\" + file\n",
    "        image = load_img(img_path, target_size=(224, 224)) #size is 224,224 by default\n",
    "        image = img_to_array(image)\n",
    "        # Reshape data for the model\n",
    "        image = image.reshape((1, image.shape[0], image.shape[1], image.shape[2]))\n",
    "        # Prepare the image for the CNN Model model\n",
    "        image = preprocess_input(image)\n",
    "        # Pass image into model to get encoded features\n",
    "        feature = model.predict(image, verbose=0)\n",
    "\n",
    "        name_id = file.split('.')[0] #take the file name and use as id in dict\n",
    "\n",
    "        features[name_id] = feature\n",
    "    return features\n",
    "directory = \"C:/Users/Mohit/College Project/Flickr8k/Flickr8k_Dataset/Flicker8k_Dataset\"\n",
    "# extract_features(directory)\n",
    "features = extract_features(directory)"
   ]
  },
  {
   "cell_type": "code",
   "execution_count": 5,
   "metadata": {},
   "outputs": [],
   "source": [
    "dump(features, open('encoded_image_features.pkl', 'wb'))"
   ]
  },
  {
   "cell_type": "code",
   "execution_count": 7,
   "metadata": {},
   "outputs": [],
   "source": [
    "def load_doc(filename):\n",
    "    # open the file as read only\n",
    "    file = open(filename, 'r')\n",
    "    # read all text\n",
    "    text = file.read()\n",
    "    # close the file\n",
    "    file.close()\n",
    "    return text\n"
   ]
  },
  {
   "cell_type": "code",
   "execution_count": 19,
   "metadata": {},
   "outputs": [],
   "source": [
    "# for making our description clean \n",
    "# iamge_id ----- image description\n",
    "\n",
    "\n",
    "def load_set (doc):\n",
    "    features = list()\n",
    "    for line in doc.split('\\n'):\n",
    "        tokens = line.split()\n",
    "\n",
    "        if len(line) < 2:\n",
    "            continue\n",
    "\n",
    "        image_id , image_desc = tokens[0] , tokens[1:]\n",
    "        image_id = image_id.split('.')[0]\n",
    "        image_desc = ' '.join(image_desc)\n",
    "        if image_id  not in features:\n",
    "            features[image_id]  =  list()\n",
    "        features[image_id].append(image_desc)\n",
    "    return features\n",
    "\n"
   ]
  },
  {
   "cell_type": "code",
   "execution_count": 62,
   "metadata": {},
   "outputs": [],
   "source": [
    "import string\n",
    "from pickle import load\n",
    "def process_description_data(description):\n",
    "    table = str.maketrans('','', string.punctuation)\n",
    "    for key, desc_list in description.items():\n",
    "        for i in range(len(desc_list)):\n",
    "            desc = desc_list[i]\n",
    "\n",
    "            desc = desc.split()\n",
    "\n",
    "            desc = [word.lower() for word in desc]\n",
    "\n",
    "            desc = [w.translate(table) for w in desc]\n",
    "\n",
    "            desc = [word for word in desc if len(word)>1]\n",
    "\n",
    "            desc = [word for word in desc if word.isalpha()]\n",
    "\n",
    "            desc_list[i] =  ' '.join(desc)\n",
    "   \n",
    "  "
   ]
  },
  {
   "cell_type": "code",
   "execution_count": 23,
   "metadata": {},
   "outputs": [],
   "source": [
    "def make_vocabulary(description):\n",
    "    sets = set()\n",
    "    for key in description.keys():\n",
    "        [sets.update(d.split()) for d in description[key]]\n",
    "       \n",
    "    return sets\n",
    "         \n",
    "# my_vocab = make_vocabulary(description)\n",
    "# my_vocab\n",
    "# print('Length of the Vocabulary:',len(my_vocab))"
   ]
  },
  {
   "cell_type": "code",
   "execution_count": 18,
   "metadata": {},
   "outputs": [],
   "source": [
    "def save_descriptions(descriptions, filename):\n",
    "    lines = list()\n",
    "    for key, desc_list in descriptions.items():\n",
    "        for desc in desc_list:\n",
    "            lines.append(key + ' ' + desc)\n",
    "    data = '\\n'.join(lines)\n",
    "    file = open(filename, 'w')\n",
    "    file.write(data)\n",
    "    file.close()\n",
    "# save_descriptions(description , 'description.txt')"
   ]
  },
  {
   "cell_type": "code",
   "execution_count": 1,
   "metadata": {},
   "outputs": [],
   "source": [
    "# # Create a list of all the training captions\n",
    "# all_train_captions = []\n",
    "# for key, val in description.items():\n",
    "#     for cap in val:\n",
    "#         all_train_captions.append(cap)\n",
    "\n",
    "#\n",
    "# max_word_count = 8\n",
    "# word_counts = {}\n",
    "# nsents = 0\n",
    "# for sent in all_train_captions:\n",
    "#     nsents += 1\n",
    "#     for w in sent.split(' '):\n",
    "#         word_counts[w] = word_counts.get(w, 0) + 1\n",
    "\n",
    "# vocab = [w for w in word_counts if word_counts[w] >= max_word_count]\n",
    "\n",
    "# print('preprocessed words %d ' % len(vocab))\n"
   ]
  }
 ],
 "metadata": {
  "kernelspec": {
   "display_name": "Python 3",
   "language": "python",
   "name": "python3"
  },
  "language_info": {
   "codemirror_mode": {
    "name": "ipython",
    "version": 3
   },
   "file_extension": ".py",
   "mimetype": "text/x-python",
   "name": "python",
   "nbconvert_exporter": "python",
   "pygments_lexer": "ipython3",
   "version": "3.7.7"
  }
 },
 "nbformat": 4,
 "nbformat_minor": 4
}
